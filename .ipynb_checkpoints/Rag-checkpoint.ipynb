{
 "cells": [
  {
   "cell_type": "code",
   "execution_count": 1,
   "id": "1c55142c-ed5c-4309-a771-4f87a7813764",
   "metadata": {},
   "outputs": [],
   "source": [
    "from langchain_openai import ChatOpenAI\n",
    "from dotenv import load_dotenv\n",
    "from langsmith import traceable\n",
    "import os"
   ]
  },
  {
   "cell_type": "code",
   "execution_count": 2,
   "id": "23a8560c-cb2e-4ea8-b1ad-de3e929e070d",
   "metadata": {},
   "outputs": [],
   "source": [
    "os.environ[\"LANGSMITH_PROJECT\"] = \"Youtube Project\""
   ]
  },
  {
   "cell_type": "code",
   "execution_count": 3,
   "id": "10045a76-4f97-458c-a8d7-a14eb9749f2f",
   "metadata": {},
   "outputs": [],
   "source": [
    "load_dotenv()\n",
    "api_key = os.getenv(\"OPENAI_API_KEY\")\n",
    "\n",
    "llm = ChatOpenAI(\n",
    "    model_name=\"gpt-4o-mini\",   \n",
    "    openai_api_key=api_key,\n",
    "    max_tokens=500             \n",
    ")"
   ]
  },
  {
   "cell_type": "code",
   "execution_count": 4,
   "id": "add50751-b0fe-4953-92af-7d315da99e47",
   "metadata": {},
   "outputs": [],
   "source": [
    "from youtube_transcript_api import YouTubeTranscriptApi, TranscriptsDisabled\n",
    "from langchain.text_splitter import RecursiveCharacterTextSplitter\n",
    "from langchain_openai import OpenAIEmbeddings, ChatOpenAI\n",
    "from langchain_community.vectorstores import FAISS\n",
    "from langchain_core.prompts import PromptTemplate\n",
    "from langchain_community.document_loaders import YoutubeLoader\n"
   ]
  },
  {
   "cell_type": "markdown",
   "id": "50b96afc-3f32-4714-baec-ff79966a5bb0",
   "metadata": {},
   "source": [
    "<h1>(a) Indexing Ingestion </h1>"
   ]
  },
  {
   "cell_type": "code",
   "execution_count": 5,
   "id": "07bf001f-0546-4038-bc81-82e2dda32475",
   "metadata": {},
   "outputs": [],
   "source": [
    "from langchain.schema import Document\n",
    "\n",
    "with open(\"script.txt\", \"r\", encoding=\"utf-8\") as f:\n",
    "    content = f.read()\n"
   ]
  },
  {
   "cell_type": "code",
   "execution_count": null,
   "id": "11a7f970-ff59-47d6-aeb8-b9d89e13746e",
   "metadata": {},
   "outputs": [],
   "source": []
  },
  {
   "cell_type": "code",
   "execution_count": 7,
   "id": "fdef1243-aa65-40c3-9b9f-9c3698ec6e97",
   "metadata": {},
   "outputs": [],
   "source": [
    "import re\n",
    "\n",
    "cleaned = re.sub(r\"[\\d.:]|\\n\", \"\",content)"
   ]
  },
  {
   "cell_type": "code",
   "execution_count": null,
   "id": "84a25e11-c8ba-4413-bace-875edcfbd2ee",
   "metadata": {},
   "outputs": [],
   "source": []
  },
  {
   "cell_type": "code",
   "execution_count": 10,
   "id": "c3d10fb6-175a-45ee-afa4-aaba0d9038c5",
   "metadata": {},
   "outputs": [],
   "source": [
    "splitter = RecursiveCharacterTextSplitter(chunk_size=1000, chunk_overlap=200)\n",
    "chunks = splitter.create_documents([cleaned])"
   ]
  },
  {
   "cell_type": "code",
   "execution_count": 11,
   "id": "41e2f613-e6f1-4c57-8f7a-a092eced6edb",
   "metadata": {},
   "outputs": [
    {
     "data": {
      "text/plain": [
       "318"
      ]
     },
     "execution_count": 11,
     "metadata": {},
     "output_type": "execute_result"
    }
   ],
   "source": [
    "len(chunks)"
   ]
  },
  {
   "cell_type": "code",
   "execution_count": 12,
   "id": "67392391-583e-469d-9cf3-3ffaced8b8dd",
   "metadata": {},
   "outputs": [
    {
     "data": {
      "text/plain": [
       "Document(metadata={}, page_content=\"to run it and there's my output i like pizza on the next line i'll type std two colons c out two left angle brackets for output i'll write a second line it's really good then i'll run this again you can press this icon to clear output uh oh we have a problem i like pizza it's really good all of this text is on one line what if you need the next line of text to be on well the next line when you need to move your cursor down to the next line you can follow some string of text with double left angle brackets for output std colon colon en dl that means end line and i'll do the same for my second line i'm going to save clear my output run this again yeah there we go i like pizza it's really good each line of text is on a different line another option for a new line that's better performance wise is to add a new line character within single quotes type backslash n and let's replace that here as well so i'm going to save clear my output run this again i like pizza it's really good adding a\")"
      ]
     },
     "execution_count": 12,
     "metadata": {},
     "output_type": "execute_result"
    }
   ],
   "source": [
    "chunks[10]"
   ]
  },
  {
   "cell_type": "markdown",
   "id": "fcfee013-6420-4d7c-9c0f-b05b31f60361",
   "metadata": {},
   "source": [
    "<h1>(b) Embedding + Vector Store</h1>"
   ]
  },
  {
   "cell_type": "code",
   "execution_count": 6,
   "id": "12017d2f-d880-4474-87d5-219e67379de6",
   "metadata": {},
   "outputs": [],
   "source": [
    "embeddings = OpenAIEmbeddings(model=\"text-embedding-3-small\")\n"
   ]
  },
  {
   "cell_type": "code",
   "execution_count": null,
   "id": "2012a3bd-4688-409b-ae62-a6eedd4ebe66",
   "metadata": {},
   "outputs": [],
   "source": [
    "vector_store = FAISS.from_documents(chunks, embeddings)\n"
   ]
  },
  {
   "cell_type": "code",
   "execution_count": 14,
   "id": "5bcf18cb-a425-4c3b-807b-ac4dd67d46ca",
   "metadata": {},
   "outputs": [
    {
     "data": {
      "text/plain": [
       "{0: '84280cab-7aaa-4b82-8c87-f956ffda6ffd',\n",
       " 1: '19558011-8f99-429f-8695-58b02a775f3a',\n",
       " 2: '1024c529-05db-430f-8dfb-f73ff73cbe10',\n",
       " 3: '6aa1a328-78ce-41f7-b174-f740c7b8f775',\n",
       " 4: '46eb85ac-fc88-403c-894e-271c05e56b88',\n",
       " 5: '9152d056-9e74-4e65-848a-1513e0e1f178',\n",
       " 6: '1e3a49af-ae42-42b0-9c8e-64b99a954873',\n",
       " 7: '7444643a-4aa9-4dc2-8e14-abeb434f523a',\n",
       " 8: 'ed52116b-eddb-4689-9529-028249077d66',\n",
       " 9: '60f7d3bb-f76f-440d-afa2-caf9ccb4fc62',\n",
       " 10: 'b4349881-cfc1-443b-b182-42870cacdc92',\n",
       " 11: '1de5bcf0-f98f-4444-959c-908e21d5d5c4',\n",
       " 12: '3f8a6bec-0c75-4980-aaa4-a346c4c216be',\n",
       " 13: '614f921f-577b-4302-abce-2dd7b691d08c',\n",
       " 14: 'f4f6d5a7-6bb1-4b78-a277-9fc14ec2469e',\n",
       " 15: 'e7795287-33bb-49f7-8a15-a069b584e61b',\n",
       " 16: '791e10e3-0d94-46d7-8216-1ada8c07c34e',\n",
       " 17: 'fc115f7a-6a52-4c36-b99e-5ca682ffc587',\n",
       " 18: '7723b7c4-782f-4fd6-b4e3-a922701023e7',\n",
       " 19: 'df05d38d-a1a6-49e2-a51f-076056f1f17e',\n",
       " 20: '85d0bffb-cb7f-4705-9465-173873e78c3d',\n",
       " 21: '5807f203-6453-4792-87cb-da80e342781c',\n",
       " 22: '5c9fe4e1-7b5e-46fb-a6da-86dcaeed1eb0',\n",
       " 23: 'cfbc673c-b4f8-41cb-ae51-18f577c49f87',\n",
       " 24: 'c97cd9fd-a2a5-408d-8220-1569333e5a24',\n",
       " 25: '827b07d4-c20b-4025-b07f-029e3a824d7a',\n",
       " 26: '989a8285-04a2-4467-aa1e-3515d89e0d1e',\n",
       " 27: 'cae2751d-91e9-46d4-837a-96e439649779',\n",
       " 28: '10211f61-5c1e-46a4-b453-a88ac883931d',\n",
       " 29: '05adcc8e-2c59-453e-9826-2af10c32a8f4',\n",
       " 30: '4d0c985a-b4c2-4464-94c6-8dc1ede56473',\n",
       " 31: '90f90178-b986-4e0d-80d8-84c023529163',\n",
       " 32: 'a61d9bb7-5237-4826-b785-509aa2c8a866',\n",
       " 33: '4e0a3820-0c26-45d4-9371-36b96476c0fd',\n",
       " 34: 'b6b660d7-ed0c-4095-b6d2-ceeb9bdd5fef',\n",
       " 35: '5281f0d3-324d-4aca-a123-212431fa10dc',\n",
       " 36: 'd8a0103e-45b0-41a7-b936-fef383e54d7d',\n",
       " 37: '51786217-d938-44f1-a799-30a65420e028',\n",
       " 38: 'd6a02524-c43f-43ad-a31d-c28a854ce798',\n",
       " 39: '833a216d-b012-459c-a8e5-3481270677b3',\n",
       " 40: '123de783-4a52-4c39-8182-1b232141a08b',\n",
       " 41: 'f13d4f83-4864-4616-bcee-35323908b333',\n",
       " 42: '64d747a3-a3ba-4b07-bd06-578a351b4f6f',\n",
       " 43: '9dc0784b-95bf-46de-bf03-51ae623119b0',\n",
       " 44: '4b49ba6a-6123-463c-86e1-62e8bc2b5e19',\n",
       " 45: '62eee39c-3712-4889-87b2-470e60deadc9',\n",
       " 46: '36cefafc-8cf9-49f2-a205-5eeef05a3343',\n",
       " 47: 'df83dac3-fa9c-4a47-93e3-f09a5d247ed9',\n",
       " 48: '2c5f42e5-e8e1-4995-9f48-adb69309bf4e',\n",
       " 49: '039255e2-c388-45ca-91e3-9be6d572fd12',\n",
       " 50: 'aab75fa4-21ac-455b-9d96-51fad0b16378',\n",
       " 51: 'c3f948a3-cfc0-4b5c-9cc5-74b777333f00',\n",
       " 52: 'c991e799-3990-4ae3-a96a-c986d8713a23',\n",
       " 53: 'efdec508-2d91-42f9-b8eb-82ee815b3f95',\n",
       " 54: 'f4ddec32-8474-453e-902d-3d4999134d3e',\n",
       " 55: 'd9018ff7-6d1c-4292-b1b2-9d98d9e81df0',\n",
       " 56: 'c5ece43b-3f36-44aa-b823-18c5f8a583b5',\n",
       " 57: '64eabfe7-344f-4884-aa82-0a9f721a9e13',\n",
       " 58: 'df9728da-e3cc-4749-a70c-0943264c9a2b',\n",
       " 59: '4a53ec19-39c6-4092-942b-5f7c053c4e0c',\n",
       " 60: '22a25acc-7913-4612-9403-c4b543d70e2c',\n",
       " 61: '0205d89e-127f-4f32-8fd3-a23c5c81e91f',\n",
       " 62: 'b116db0b-3d88-4c70-8946-619ff0c7fcde',\n",
       " 63: '585ceac7-363b-4970-b4d6-a592402ea890',\n",
       " 64: '814d0cc6-ea76-4e20-823d-bdb39dd8a670',\n",
       " 65: '381f8cec-50c5-468d-8a4d-eb41b0bd5152',\n",
       " 66: '33798f5b-ed98-4749-8f91-2533ef62a5f4',\n",
       " 67: 'f9784812-9b48-470d-936e-407fe4cab1fa',\n",
       " 68: '22d060ff-9f91-4ae6-987c-ac2d1fdf9486',\n",
       " 69: '25a0b995-e451-44ff-bddf-f2521e2765cc',\n",
       " 70: 'e9f0a80a-0bf6-4b54-a5a1-d6afb79989de',\n",
       " 71: 'b4355d45-8644-4f5a-bb22-1016cabc95e8',\n",
       " 72: 'b0f762f4-3787-4326-ad66-d03b9f3745d1',\n",
       " 73: '71415745-f4f6-4986-80b3-266acd207315',\n",
       " 74: 'a3432543-dc84-4a62-984e-b9464785765c',\n",
       " 75: '42233617-8ad0-4adc-9d51-52f773ba1bf7',\n",
       " 76: '1a203b3a-f22e-482b-8fad-a28a7d4f0209',\n",
       " 77: '77b8c6e8-dc46-4e0c-90ae-638ce72e89e6',\n",
       " 78: '94601e2c-cd1b-4016-a026-233aa87b636b',\n",
       " 79: '3646f887-848d-40fc-8b6f-6940e2ab110f',\n",
       " 80: '9277d77f-71ef-4a33-bb64-896734b42a32',\n",
       " 81: '46b377c2-3f5a-4416-b838-5823608ff733',\n",
       " 82: 'c96161e3-b424-4545-89f7-fe2cb4724abb',\n",
       " 83: 'f2fe7f27-0422-41bc-b80f-269dbd1d5b6b',\n",
       " 84: 'a078950b-928f-470c-9b86-4d504e151941',\n",
       " 85: '6031f78a-73d2-4546-9407-341b683e6461',\n",
       " 86: '0e925d2b-2d4a-4003-88c7-a9665b31ae01',\n",
       " 87: 'd2e12046-8ab5-4010-a77e-a3a0f7638026',\n",
       " 88: '556b0e5d-0eaf-4f2d-905a-527cd3b80e1d',\n",
       " 89: 'f74c7487-ffce-43ef-9886-cee11815062f',\n",
       " 90: 'a86d16bc-eff4-48dc-8855-bb37903ca77a',\n",
       " 91: '50184eef-2e03-4d6d-bc8e-ed46f47e9e5e',\n",
       " 92: '9345e73d-a5ca-4d69-a56e-c9a1eb9f0003',\n",
       " 93: '34d3ed45-e928-4b52-ba3d-43796696f645',\n",
       " 94: '614b1c22-9e5e-431a-9e34-c23f0531c0c8',\n",
       " 95: 'efada29a-4654-4c0f-83a6-fafd7d741ff3',\n",
       " 96: 'a93fb7de-dd31-40af-a863-eec6d6b3062c',\n",
       " 97: 'b199d0a6-6897-4498-b651-2cd86bc4dbc5',\n",
       " 98: '8aa86ee4-84c7-456f-b69e-45bd76ab3dab',\n",
       " 99: 'c2094547-b45a-40ca-b5e6-7bf8df0a8f45',\n",
       " 100: '0e6ee6af-a0f9-4499-a6bc-1063bdaacdb5',\n",
       " 101: 'ec689b66-18fe-4a86-80e4-e56afd588685',\n",
       " 102: 'ece5bade-158d-4910-b80d-70020e0ad8fd',\n",
       " 103: '60d6058e-6fe0-4453-9ba5-e5b025125e32',\n",
       " 104: 'f33caac6-2120-4aa5-aff7-5892d8e2aa77',\n",
       " 105: '8b50946e-df19-4be6-be51-f1af281c2de8',\n",
       " 106: '7a57e27d-6f73-4405-99b9-c15d1d573b88',\n",
       " 107: '5ddca110-1974-4eba-b0ac-596db9a93c67',\n",
       " 108: 'ff345ba9-922a-41f4-b642-9ad4264b0296',\n",
       " 109: 'fd05768b-faa0-4eb9-b010-03eb7a53b700',\n",
       " 110: '25bb9418-ecb9-4189-98e7-ae6f261d458e',\n",
       " 111: '26086576-a90a-4847-95fd-bbcea37614cb',\n",
       " 112: 'bdddb922-198d-433c-9ac2-351b56259035',\n",
       " 113: '271ae905-b33a-442b-8961-1d07234f9e7f',\n",
       " 114: 'd71812e0-8386-40ad-a68a-e77b433cdbeb',\n",
       " 115: '676d81c2-19bd-4ff8-aa1c-b319c29a58c5',\n",
       " 116: 'ab393ce9-8779-4b90-9686-8a68a85c4dab',\n",
       " 117: '80d49fe4-7ed7-46a6-95c0-2b2685ed49a6',\n",
       " 118: 'a33782c7-d6bd-41fa-bc08-55275b09d730',\n",
       " 119: '7c2c62f2-69f6-44ad-bc1a-a8178ea0a622',\n",
       " 120: '2eae1991-b4ff-46ac-b124-3677ede5ff84',\n",
       " 121: 'c0b7b63b-a9a7-4edf-a382-941f9bfb7a06',\n",
       " 122: '96a398c6-7154-43d7-a041-8ef8aa449e6b',\n",
       " 123: '32432c20-b800-4f51-bbf4-cf9eca82eac5',\n",
       " 124: '3ca2447d-bcb2-4fd3-9b8f-df40da2d3db7',\n",
       " 125: 'e44052bd-6680-48ef-bafb-0258f7f6dacb',\n",
       " 126: '9306ae72-0b7e-43c3-896e-f5f498e46e74',\n",
       " 127: '71b29363-0e68-4231-961b-c7e7f527394c',\n",
       " 128: '793fca66-81dd-48ac-acc8-01ebc6040269',\n",
       " 129: '1c37e780-3c42-4eb9-ae5c-8230135ef4fe',\n",
       " 130: '8ba05b6e-f4ae-4b86-a3a0-fbb00454f16b',\n",
       " 131: '2f715bee-40f9-408a-ae86-319ce256675f',\n",
       " 132: '1349e833-f29d-42f7-98cb-7e444f17aaba',\n",
       " 133: '0fb7cab3-e41f-48eb-845c-b3cb14e84355',\n",
       " 134: 'b0190827-adb7-4112-acdd-b54a773e2852',\n",
       " 135: '350cf853-25fa-4b10-838a-c8c13074ef40',\n",
       " 136: '55c7fb4f-e053-4af3-bab4-94ebb48c0ee2',\n",
       " 137: '12aed0e6-8036-4688-b582-0fa4149cd601',\n",
       " 138: '6ec31e05-10ed-4234-81a4-e93528707a91',\n",
       " 139: '1b23e3fa-752c-4a16-9cb9-6a1a9ed6305a',\n",
       " 140: '1b8b1138-17fc-4d23-93d0-c10f6a9311ce',\n",
       " 141: '753a5308-6f2c-497d-99da-9cd5d693431c',\n",
       " 142: '5fdd3ed6-63e3-48a5-98e9-d29f70a0db84',\n",
       " 143: 'a8f88b70-b036-40bc-8359-f7508746883a',\n",
       " 144: 'e65c7763-1607-42c2-bd1e-7d0f8b11c5e5',\n",
       " 145: '7928f79a-c30b-4bd8-a396-f0d88fe05565',\n",
       " 146: 'f5b9f3a0-8b83-4caa-a436-ad1987051475',\n",
       " 147: 'fa011794-c805-42ea-b137-8662585d678c',\n",
       " 148: '2703996d-0b55-4f9a-babe-df4e787631d0',\n",
       " 149: '3f712c4c-1b2a-41a4-910c-a0c57de462c0',\n",
       " 150: '5b3b9faa-98e9-43b3-a874-d1b5057a8de9',\n",
       " 151: 'e80e4bb6-eea3-4e3c-9970-ae5092d636fd',\n",
       " 152: '356e62bb-7363-4a58-9d58-c3777cd4631b',\n",
       " 153: '6a6479b0-2eb6-40d1-8984-acf740df9dd5',\n",
       " 154: 'bb553717-c7d6-43fc-85a8-50952514b221',\n",
       " 155: 'ba6baca8-7f6d-48f2-b005-78293aa66e80',\n",
       " 156: 'b8ac9748-48d0-4a5b-8591-5a8df0607ff8',\n",
       " 157: '0f092faf-6634-4ec1-a98e-a868006bb4f6',\n",
       " 158: '87db494e-b16d-4007-b3dc-e6e5b56f765b',\n",
       " 159: '37945286-7cdc-41c3-af4d-d7ff7e4da33a',\n",
       " 160: '0fdaa25e-2fb1-4ad5-a507-a59d66c36bb4',\n",
       " 161: 'f991675c-9b48-4203-8bf7-e3a9a7206f0d',\n",
       " 162: 'cfb962d3-6451-460c-9421-43846491c439',\n",
       " 163: '3b85ee50-e4e8-444a-8211-712bfc2bf1de',\n",
       " 164: '586654b6-1bf9-4247-8a06-db60bb9f573d',\n",
       " 165: '1127caba-de72-4aae-b27a-616a8dc37e86',\n",
       " 166: '7823df23-0222-47f0-8a4a-58c58d802df8',\n",
       " 167: '7fdbf43f-80ac-4ad4-81d3-8fcefd0dedd3',\n",
       " 168: 'e6e30ac3-386c-4489-b3f3-71df45402597',\n",
       " 169: 'f87e02ca-d027-4a15-ab15-e49bcd0e1624',\n",
       " 170: '4567704e-f2bc-4b15-98d8-12bb5ab4743d',\n",
       " 171: '0724c2ae-beb4-4376-8fd4-709a892df9c1',\n",
       " 172: '864c5853-0e6f-423d-960d-5c91e9510d68',\n",
       " 173: '81839507-6ee4-4e9c-b08f-fd976ad6e44e',\n",
       " 174: '5f045874-44cc-42f5-937a-a9b2ed5351c1',\n",
       " 175: '2b290415-207e-413f-8d6f-160a61d73700',\n",
       " 176: 'd80e605d-2d3e-4e62-b517-a76d88bda5e9',\n",
       " 177: '96f0edf0-f89c-46e8-b9f9-4d7f067c6091',\n",
       " 178: 'de99ab91-4d83-4133-a9c3-e5232c66d197',\n",
       " 179: '7ddd311c-16a3-48cb-b68e-ac933c1a4d67',\n",
       " 180: '12f46852-a4c8-4343-ad0d-19abacc02450',\n",
       " 181: 'e33cad4e-075f-4446-802f-8db976b5b093',\n",
       " 182: 'f4e937b4-39ac-41fb-9c52-103a3aaac9b3',\n",
       " 183: '8d9f75d4-3ef2-42d1-8f4e-d9bf7f1b225b',\n",
       " 184: '86592201-cab9-4541-870a-2be9fe134362',\n",
       " 185: 'b159b163-225e-4969-ae4f-def06e6c10c1',\n",
       " 186: '38942a86-5f39-4fd9-a6f7-8d7cdbcca302',\n",
       " 187: 'c88fb1b9-bb05-404a-9ce5-02968483b69e',\n",
       " 188: 'bb53eebe-cb7c-4011-9054-319029a28779',\n",
       " 189: '7f3d02bd-84dc-4694-9c78-0dce46e89cfc',\n",
       " 190: '0544c1c9-2fc9-4c92-8220-60c797c9239d',\n",
       " 191: '8eb77ec0-06f3-47f4-8ebb-351cf118a304',\n",
       " 192: '916f307e-2d35-4e80-9cde-d1af7f8c12a2',\n",
       " 193: '256cea7f-e5d7-442f-9f8b-71708c8ce0e1',\n",
       " 194: '2a4bdccc-af0b-4a53-8b30-66c843888c0c',\n",
       " 195: '9db4765b-65c3-4cfe-a76e-863b296fc14c',\n",
       " 196: 'f86f3d4a-05ed-4979-ba18-8f3b36c0a71f',\n",
       " 197: 'c1686d29-feef-4c8f-b184-127c6e148de1',\n",
       " 198: 'a2bc8f77-ab75-4017-b452-2ea716e06dd4',\n",
       " 199: 'dfd41e99-d7c5-489f-b28f-3530c68fb263',\n",
       " 200: '27452822-56b8-445a-8273-d5094d2d2592',\n",
       " 201: '2b559535-bc85-4be8-9081-4ba6545fd526',\n",
       " 202: 'aa1b2ecc-b174-431f-ba9a-568b421db812',\n",
       " 203: 'e6a4eb72-0d74-4af9-9170-cb08c0b6a764',\n",
       " 204: '0b51ca93-ccba-4c4d-83bc-a988218dfd01',\n",
       " 205: 'e29f8686-cf30-4339-8e9c-232852a52932',\n",
       " 206: '065f1014-6ed5-41dd-a123-7024e7ff3c02',\n",
       " 207: '84e4a295-9f14-494a-b492-6807a63c329b',\n",
       " 208: '87c669c8-b273-485b-a9b6-34554f9cbbeb',\n",
       " 209: '11ec94df-011e-4e6e-aab1-bb8b4c835154',\n",
       " 210: '84aa35eb-173f-4dd3-9582-b483e1faa135',\n",
       " 211: 'a029acad-4b1d-4552-bcce-139118b825c9',\n",
       " 212: '94a2e94a-b2e3-45bd-b3c8-df5fd1153c9e',\n",
       " 213: 'db5a7fe0-a115-40b6-b56f-ec22a1afe464',\n",
       " 214: '623afec2-241b-4888-a555-5ebd6437757d',\n",
       " 215: 'dad59fb9-8346-49ed-b45c-844621ca9134',\n",
       " 216: '7a22ca86-5cd7-495b-8a10-27f3254509c7',\n",
       " 217: '76ab5c72-e16b-4a74-b954-e14531b1651b',\n",
       " 218: 'a656f792-d732-49f3-a2ed-a83ee2e8b8f1',\n",
       " 219: 'c0ad22e7-cef2-43c0-a40c-3cf99b6bcd5e',\n",
       " 220: '6905edc1-5afe-4335-9c8b-12ef2c6e07b5',\n",
       " 221: '6005461c-1b28-4b98-9cfd-fce4aaf0ab68',\n",
       " 222: '85ace633-32ae-4ce7-b583-210f79780b82',\n",
       " 223: 'a6379c66-4c03-4793-bb5a-9356372ba557',\n",
       " 224: '7d575b52-a145-4c95-ba21-144ad3273360',\n",
       " 225: 'c0c45558-8d25-40a9-997c-008f446b74d3',\n",
       " 226: 'cfebd743-0032-4fe6-b3c6-6862876c8cc8',\n",
       " 227: 'ae4fbeb2-15b2-43a2-be30-8245d1ee9d52',\n",
       " 228: 'ccbc8abe-d31d-4919-a7cd-27044385d88a',\n",
       " 229: 'fc292559-8b49-4ce0-a561-168c4c1b04e3',\n",
       " 230: '1bacfa2d-9375-427b-8855-de33e8ebbf82',\n",
       " 231: 'e1a1f119-b2fa-475d-8f2b-3c647ef78a74',\n",
       " 232: '4a4b287d-31cc-4a71-94a5-343cb97cbc77',\n",
       " 233: 'ed2b88a9-ccd9-4ec1-a8fc-08744d69e77f',\n",
       " 234: 'a432da05-9596-41c1-b63b-e113edab498c',\n",
       " 235: 'afd7d8d1-9beb-45d6-bb08-b8337811ec47',\n",
       " 236: '8d267a99-621b-4b4e-92d5-d30978d4eb43',\n",
       " 237: '6ca690ad-aca4-4250-9607-f5d25ef226c5',\n",
       " 238: '1390b5ca-cef0-47dd-b9d6-447bd1065fe7',\n",
       " 239: 'c5fae62d-2e3c-4bdf-9bc5-7af2a8a5b3bc',\n",
       " 240: 'de800341-169b-40e0-8d33-5854538f0d2a',\n",
       " 241: '45ec5acd-0d9d-4c95-bc54-1735ed7aff6e',\n",
       " 242: 'b5b0fcb8-1e0b-495e-af2f-0c037c3af79f',\n",
       " 243: '3815df77-6040-4c98-9dc8-f857fcf4b85f',\n",
       " 244: 'cd631bec-7b84-417a-9c84-f652ba8f8244',\n",
       " 245: '225ba7b0-3309-4c35-bc15-a83610581de0',\n",
       " 246: '709fdf4e-0d21-4681-be21-3eeebc262050',\n",
       " 247: 'c999289d-dc41-4a03-93f3-ba58847396a7',\n",
       " 248: 'f2cec4c7-27e9-458a-a3f2-8fd3906259ce',\n",
       " 249: 'e55c1270-285b-4d50-b252-254faf965a25',\n",
       " 250: '071ef366-c5a4-4855-af2d-b58d22d1ba4a',\n",
       " 251: 'd0e951c8-2284-431d-8ef1-206923956e20',\n",
       " 252: '8db3b155-3814-43ce-b905-f7a14fbc767f',\n",
       " 253: '4453dab6-a76a-4885-8a3d-ed95f30a29f3',\n",
       " 254: '57e3bc52-ed05-4aab-aa48-2f52efbc7da2',\n",
       " 255: 'ad976b6b-cf89-4fcc-8893-408d6f7fb139',\n",
       " 256: '0bb15f93-18df-4fa4-ae60-1adaf17cb874',\n",
       " 257: '56ca4f9e-4031-43f5-874e-0361c8fa1477',\n",
       " 258: '5aa0d0d1-0ab5-47d0-849b-cea33e849c82',\n",
       " 259: 'cce0ab31-6d4e-4efd-a5ba-0ae4937cdf66',\n",
       " 260: '91a6b078-8fa7-4827-95ed-dce27232f025',\n",
       " 261: '6fc59629-8d9d-4302-b297-25c08ba3f8d5',\n",
       " 262: 'd24e39fa-1bb5-4973-b01a-b407f9d1351a',\n",
       " 263: '10e430bb-6757-4f25-8678-116929579549',\n",
       " 264: 'dd39f96d-a030-4e66-adae-58e85655bec1',\n",
       " 265: 'd72af225-d19b-49ad-91c5-eae885a6e082',\n",
       " 266: '294557c0-2280-4035-b441-c90ab20804e7',\n",
       " 267: '21c1514c-dd9d-4746-973a-5dc0c7fdbd74',\n",
       " 268: 'c025b619-db2e-476e-a4a5-5b10e5ef6c4a',\n",
       " 269: 'f0626180-0b45-4cd2-8f52-d7cc2385dc73',\n",
       " 270: 'cd9fa666-38cf-43b2-8bf7-1471d95e1091',\n",
       " 271: '59187be8-54d7-48b9-85fe-229376a9b4d8',\n",
       " 272: '57e436c9-e25c-40ce-9a70-da3108d0fe73',\n",
       " 273: '813631e7-2721-4543-80ff-20454fb194fb',\n",
       " 274: 'c1d47d27-3797-4d06-b6b9-cabd115eb6f1',\n",
       " 275: 'fa33e5d8-b823-497b-88f3-7e2ff89e0003',\n",
       " 276: 'e320ed5b-3e99-41ac-bcd5-98691dea6f0f',\n",
       " 277: '66163da6-b654-4717-9ef1-ea4e8bb2d528',\n",
       " 278: '6595a5ad-e602-4d75-ac9b-00e9164a231d',\n",
       " 279: 'b6cfd49d-c71e-4c5a-8103-c61c1927c9e9',\n",
       " 280: 'd528b1ae-d658-449a-8c44-8f02ff716aac',\n",
       " 281: '49dfd14d-ff20-4661-93c6-ca3517709ec7',\n",
       " 282: '00ad8157-005e-46ec-91bc-406d85b8eec8',\n",
       " 283: '9924c50f-b801-4dcb-a54d-7e86b7908da7',\n",
       " 284: '1ec4d932-f551-4f4c-9efc-c46d5d87a177',\n",
       " 285: '1e85d3b3-a4b6-4807-964e-799c165d8c95',\n",
       " 286: 'd5da45ac-8dee-4917-b81c-633f713cce58',\n",
       " 287: '511129da-9284-4f13-9817-e2c08f0b9a49',\n",
       " 288: '885eca48-9486-4853-8a0c-16d9f74da1f8',\n",
       " 289: '4725ed60-e851-473e-bc0b-49f60984321a',\n",
       " 290: '0b5dccdd-6e0f-4aca-a347-87965e19443a',\n",
       " 291: 'f4faf778-1591-48b5-9690-bc3ed0ff260b',\n",
       " 292: '821f9146-3f73-4192-a92b-ed00a6253284',\n",
       " 293: '2cda90a3-32ec-415d-b82e-9e25b8020a13',\n",
       " 294: '314899c7-c6e3-4fcf-917f-80d4b2f7f5b5',\n",
       " 295: '25cd9fbf-903d-4d03-aad6-d604299cc9ed',\n",
       " 296: 'd34db912-f378-4274-b8d2-973ab8a359f7',\n",
       " 297: '8b2493d7-42a6-42f8-816b-3017a41b3cc0',\n",
       " 298: 'dbafa3dc-00f5-4be0-9ff0-aa33079b048a',\n",
       " 299: '1bfec859-59a9-4feb-a89d-f55ec6f165ed',\n",
       " 300: '7b9036d8-92c6-4083-97fb-407e769128bb',\n",
       " 301: 'f8c1000f-585e-4922-8946-51b81eda199c',\n",
       " 302: '8c455a0f-42b7-48e0-a58b-1a562a553d2a',\n",
       " 303: '4d6249e2-ebc4-4f43-b35b-4bd3e6f90188',\n",
       " 304: '5eee9ad1-404c-495b-b77d-8d63d0c6edb8',\n",
       " 305: 'c5d11363-8238-4d0c-ba49-afc7a12924a5',\n",
       " 306: 'afa87ef0-cf83-4974-ab9b-5a6b9f3902a8',\n",
       " 307: '686c5919-4bec-45f0-b0dc-c3d82167d837',\n",
       " 308: '66240a14-31b9-457f-b42e-662f0b1629b8',\n",
       " 309: '276e5887-e96f-476f-9295-57fd6aba8165',\n",
       " 310: '9a93a563-cac3-4cbf-8326-343eb22623e4',\n",
       " 311: 'b8cdf1b2-6a7a-44a5-9636-021487445405',\n",
       " 312: 'ae136ce5-bd1d-4c2d-b827-0da0173fcc33',\n",
       " 313: 'acde430a-1e8e-4e11-9246-692cd16925c5',\n",
       " 314: '88bb0ca5-5e16-42fe-8e12-9a75f29f2bb3',\n",
       " 315: '0de03a19-7867-4733-a621-dbbbd57fc4f6',\n",
       " 316: 'fae9fb9d-c537-4f1f-b84f-547c5a20406a',\n",
       " 317: '4c099792-07db-43c4-ac82-d1c47b767679'}"
      ]
     },
     "execution_count": 14,
     "metadata": {},
     "output_type": "execute_result"
    }
   ],
   "source": [
    "vector_store.index_to_docstore_id"
   ]
  },
  {
   "cell_type": "code",
   "execution_count": 15,
   "id": "19fc76f4-3c73-4be2-878f-8bfc4bb3965f",
   "metadata": {},
   "outputs": [
    {
     "data": {
      "text/plain": [
       "[Document(id='84280cab-7aaa-4b82-8c87-f956ffda6ffd', metadata={}, page_content=\"hey guys in this video you're going to write your first c plus program so sit back relax and well enjoy the show hey if you wouldn't mind please like comment and subscribe one like equals one prayer for the youtube algorithm i'm gonna tell you why you need to learn c plus plus c plus plus is a fast language like really fast it's commonly used in advanced graphics applications a few examples would include adobe applications video editing software anything that's graphics intensive c plus plus is considered a middle level language therefore it's commonly used with embedded systems and most importantly it's commonly used with creating video games i like video games like a lot compared to other programming languages you could say that c plus plus is a middle level language programming languages tend to be on a spectrum the higher level of programming languages the more it resembles human language languages that are closer to being lower level resemble hardware instructions higher level\")]"
      ]
     },
     "execution_count": 15,
     "metadata": {},
     "output_type": "execute_result"
    }
   ],
   "source": [
    "vector_store.get_by_ids(['84280cab-7aaa-4b82-8c87-f956ffda6ffd'])"
   ]
  },
  {
   "cell_type": "code",
   "execution_count": 18,
   "id": "d426c24d-add9-4c16-94d9-876eb782cae4",
   "metadata": {},
   "outputs": [],
   "source": [
    "vector_store.save_local(\"c++ script embedding\")"
   ]
  },
  {
   "cell_type": "code",
   "execution_count": 7,
   "id": "322b567c-69cc-4d5a-ab17-cd3c0e56e547",
   "metadata": {},
   "outputs": [],
   "source": [
    "vector_store = FAISS.load_local(\n",
    "    \"c++ script embedding\", \n",
    "    embeddings, \n",
    "    allow_dangerous_deserialization=True\n",
    ")\n"
   ]
  },
  {
   "cell_type": "code",
   "execution_count": 8,
   "id": "7507e72b-bc8d-4225-8da8-8aa5e4392e7c",
   "metadata": {},
   "outputs": [
    {
     "data": {
      "text/plain": [
       "[Document(id='84280cab-7aaa-4b82-8c87-f956ffda6ffd', metadata={}, page_content=\"hey guys in this video you're going to write your first c plus program so sit back relax and well enjoy the show hey if you wouldn't mind please like comment and subscribe one like equals one prayer for the youtube algorithm i'm gonna tell you why you need to learn c plus plus c plus plus is a fast language like really fast it's commonly used in advanced graphics applications a few examples would include adobe applications video editing software anything that's graphics intensive c plus plus is considered a middle level language therefore it's commonly used with embedded systems and most importantly it's commonly used with creating video games i like video games like a lot compared to other programming languages you could say that c plus plus is a middle level language programming languages tend to be on a spectrum the higher level of programming languages the more it resembles human language languages that are closer to being lower level resemble hardware instructions higher level\")]"
      ]
     },
     "execution_count": 8,
     "metadata": {},
     "output_type": "execute_result"
    }
   ],
   "source": [
    "vector_store.get_by_ids([\"84280cab-7aaa-4b82-8c87-f956ffda6ffd\"])"
   ]
  },
  {
   "cell_type": "markdown",
   "id": "afe4429d-9217-4304-8dff-d9191c569e78",
   "metadata": {},
   "source": [
    "<h1>(c) Retrieval</h1>"
   ]
  },
  {
   "cell_type": "code",
   "execution_count": 9,
   "id": "821e93f3-db38-451b-ab2c-fa10e60477e9",
   "metadata": {},
   "outputs": [],
   "source": [
    "retriever = vector_store.as_retriever(search_type=\"similarity\", search_kwargs={\"k\": 5})"
   ]
  },
  {
   "cell_type": "code",
   "execution_count": 10,
   "id": "f690ad7a-c1f5-4b17-82e5-e67409a0a9b0",
   "metadata": {},
   "outputs": [
    {
     "data": {
      "text/plain": [
       "VectorStoreRetriever(tags=['FAISS', 'OpenAIEmbeddings'], vectorstore=<langchain_community.vectorstores.faiss.FAISS object at 0x000002035C073B60>, search_kwargs={'k': 5})"
      ]
     },
     "execution_count": 10,
     "metadata": {},
     "output_type": "execute_result"
    }
   ],
   "source": [
    "retriever"
   ]
  },
  {
   "cell_type": "code",
   "execution_count": null,
   "id": "4584b4e6-e76e-4a59-b788-b966f7434141",
   "metadata": {},
   "outputs": [],
   "source": []
  },
  {
   "cell_type": "code",
   "execution_count": 11,
   "id": "2b515b81-b4b1-4f32-81ed-fd45a2155c09",
   "metadata": {},
   "outputs": [],
   "source": [
    "prompt = PromptTemplate(\n",
    "    template=\"\"\"\n",
    "      You are a helpful assistant.\n",
    "      Answer ONLY from the provided transcript context.\n",
    "      If the context is insufficient, just say you don't know.\n",
    "\n",
    "      {context}\n",
    "      Question: {question}\n",
    "    \"\"\",\n",
    "    input_variables = ['context', 'question']\n",
    ")"
   ]
  },
  {
   "cell_type": "code",
   "execution_count": 17,
   "id": "d41848e8-d58c-4092-9381-e4746ff0ccac",
   "metadata": {},
   "outputs": [],
   "source": [
    "question          = \"Explain the use of if else\"\n",
    "retrieved_docs    = retriever.invoke(question)"
   ]
  },
  {
   "cell_type": "code",
   "execution_count": 19,
   "id": "3ffb7fba-8516-48cf-b84c-49f190706b95",
   "metadata": {},
   "outputs": [
    {
     "data": {
      "text/plain": [
       "[Document(id='4a53ec19-39c6-4092-942b-5f7c053c4e0c', metadata={}, page_content=\"will display this message let's try this one more time and to your age i am  years old i hit enter you are too old to enter the site so yeah that's an if statement you do something if a condition is true if not then you don't do it if you would rather do something else you can use an else statement if there's other conditions you would like to check before reaching the else statement you can use an else if statement and there's really no limit to these if you would like a copy of this code i'll post this in the comments section down below and well yeah those are if statements in c plus all right everybody today we're going to discuss switches a switch is an alternative to using many else if statements it compares one value against many matching cases here's an example of what you don't want to do i have this program we have variable month month is of the integer data type the user will type in a number  through  to represent the month if month is equal to  it is january else if month\"),\n",
       " Document(id='df9728da-e3cc-4749-a70c-0943264c9a2b', metadata={}, page_content=\"else statement let's add one more else if statement else if age is greater than or equal to  standard output you are too old to enter this site okay enter your age i am  years old i hit enter welcome to the site we check these conditions one by one starting from the top we stated that our age was  years old even though we were expecting to execute this body of code we instead executed this body of code within the if statement that's because our age was technically still greater than or equal to  so the order of your if and else if statements does matter it makes a difference if we need to execute this body of code if somebody's age is greater than or equal to  well then we should probably move that to the top then turn it into an if statement else if age is greater than or equal to  we will display this message let's try this one more time and to your age i am  years old i hit enter you are too old to enter the site so yeah that's an if statement you do something if a condition is\"),\n",
       " Document(id='f9784812-9b48-470d-936e-407fe4cab1fa', metadata={}, page_content=\"by a question mark followed by a colon it's a replacement to using an if else statement you write a condition then add a question mark kind of like you're asking a question is something true if that condition is true we can do some code if it's false we do some other code here's an example we have a grade my grade is  if grade is greater than or equal to  i'll output you pass else will output you fail my grade is  therefore i pass another way of writing this is to use the ternary operator first we write a condition so let's get rid of this if statement after our condition we'll add a question mark now parentheses are optional then we write some expression standard output you pass we do this if our condition is true colon what will we do if that condition is false well let's use whatever's within our else statement and this would work the same if my grade is  you pass if it's  you fail let's come up with a few other examples let's check to see if a number is even or odd int number\"),\n",
       " Document(id='22d060ff-9f91-4ae6-987c-ac2d1fdf9486', metadata={}, page_content=\"within our else statement and this would work the same if my grade is  you pass if it's  you fail let's come up with a few other examples let's check to see if a number is even or odd int number equals what about nine we write a condition we'll check if number modulus two remember modulus gives you the remainder of any division does number divide by two evenly so this returns a one or a zero if number modulus two is equal to  question mark then let's display odd if it's false we'll display standard output even okay odd let's change number to eight now it's even you don't necessarily need equals one or equal zero the number  does correspond to true and  corresponds to false so you could write it like this too  divides by  evenly that's even if it's  that is odd okay last example let's examine a boolean variable bull how about hungry is somebody hungry i'll set this to be true let's write our condition hungry equals true question mark now if you're examining to see if a boolean variable\"),\n",
       " Document(id='c5ece43b-3f36-44aa-b823-18c5f8a583b5', metadata={}, page_content=\"such as less than or equals to less than greater than if you need to compare if two values are equal you use two equal signs you don't want to say equals because then you're setting age equal to  equals is the assignment operator so let's check to see if age is greater than or equal to  then we'll print a message standard output welcome to the site okay let's try this enter your age let's say that i'm  well it doesn't do anything since this condition evaluated to be false we skip over this body of code if it were true then we execute it this time my age is  i hit enter welcome to the site if you would rather do something else if a condition is false you can use an else statement an else statement you will place at the end there is no condition else we will print standard output you are not old enough to enter okay let's try this again and to your age i'll say that i'm  you are not old enough to enter that's an if statement if some condition is true you do something if not you can do\")]"
      ]
     },
     "execution_count": 19,
     "metadata": {},
     "output_type": "execute_result"
    }
   ],
   "source": [
    "retrieved_docs"
   ]
  },
  {
   "cell_type": "code",
   "execution_count": 20,
   "id": "84373614-5911-43f9-b14a-6bbae84b8335",
   "metadata": {},
   "outputs": [
    {
     "data": {
      "text/plain": [
       "\"will display this message let's try this one more time and to your age i am  years old i hit enter you are too old to enter the site so yeah that's an if statement you do something if a condition is true if not then you don't do it if you would rather do something else you can use an else statement if there's other conditions you would like to check before reaching the else statement you can use an else if statement and there's really no limit to these if you would like a copy of this code i'll post this in the comments section down below and well yeah those are if statements in c plus all right everybody today we're going to discuss switches a switch is an alternative to using many else if statements it compares one value against many matching cases here's an example of what you don't want to do i have this program we have variable month month is of the integer data type the user will type in a number  through  to represent the month if month is equal to  it is january else if month\\n\\n\\n\\nelse statement let's add one more else if statement else if age is greater than or equal to  standard output you are too old to enter this site okay enter your age i am  years old i hit enter welcome to the site we check these conditions one by one starting from the top we stated that our age was  years old even though we were expecting to execute this body of code we instead executed this body of code within the if statement that's because our age was technically still greater than or equal to  so the order of your if and else if statements does matter it makes a difference if we need to execute this body of code if somebody's age is greater than or equal to  well then we should probably move that to the top then turn it into an if statement else if age is greater than or equal to  we will display this message let's try this one more time and to your age i am  years old i hit enter you are too old to enter the site so yeah that's an if statement you do something if a condition is\\n\\n\\n\\nby a question mark followed by a colon it's a replacement to using an if else statement you write a condition then add a question mark kind of like you're asking a question is something true if that condition is true we can do some code if it's false we do some other code here's an example we have a grade my grade is  if grade is greater than or equal to  i'll output you pass else will output you fail my grade is  therefore i pass another way of writing this is to use the ternary operator first we write a condition so let's get rid of this if statement after our condition we'll add a question mark now parentheses are optional then we write some expression standard output you pass we do this if our condition is true colon what will we do if that condition is false well let's use whatever's within our else statement and this would work the same if my grade is  you pass if it's  you fail let's come up with a few other examples let's check to see if a number is even or odd int number\\n\\n\\n\\nwithin our else statement and this would work the same if my grade is  you pass if it's  you fail let's come up with a few other examples let's check to see if a number is even or odd int number equals what about nine we write a condition we'll check if number modulus two remember modulus gives you the remainder of any division does number divide by two evenly so this returns a one or a zero if number modulus two is equal to  question mark then let's display odd if it's false we'll display standard output even okay odd let's change number to eight now it's even you don't necessarily need equals one or equal zero the number  does correspond to true and  corresponds to false so you could write it like this too  divides by  evenly that's even if it's  that is odd okay last example let's examine a boolean variable bull how about hungry is somebody hungry i'll set this to be true let's write our condition hungry equals true question mark now if you're examining to see if a boolean variable\\n\\n\\n\\nsuch as less than or equals to less than greater than if you need to compare if two values are equal you use two equal signs you don't want to say equals because then you're setting age equal to  equals is the assignment operator so let's check to see if age is greater than or equal to  then we'll print a message standard output welcome to the site okay let's try this enter your age let's say that i'm  well it doesn't do anything since this condition evaluated to be false we skip over this body of code if it were true then we execute it this time my age is  i hit enter welcome to the site if you would rather do something else if a condition is false you can use an else statement an else statement you will place at the end there is no condition else we will print standard output you are not old enough to enter okay let's try this again and to your age i'll say that i'm  you are not old enough to enter that's an if statement if some condition is true you do something if not you can do\""
      ]
     },
     "execution_count": 20,
     "metadata": {},
     "output_type": "execute_result"
    }
   ],
   "source": [
    "context_text = \"\\n\\n\\n\\n\".join(doc.page_content for doc in retrieved_docs)\n",
    "context_text"
   ]
  },
  {
   "cell_type": "code",
   "execution_count": 21,
   "id": "4ecdef44-30fa-4ff9-bd5d-687bf1f077b5",
   "metadata": {},
   "outputs": [
    {
     "data": {
      "text/plain": [
       "StringPromptValue(text=\"\\n      You are a helpful assistant.\\n      Answer ONLY from the provided transcript context.\\n      If the context is insufficient, just say you don't know.\\n\\n      will display this message let's try this one more time and to your age i am  years old i hit enter you are too old to enter the site so yeah that's an if statement you do something if a condition is true if not then you don't do it if you would rather do something else you can use an else statement if there's other conditions you would like to check before reaching the else statement you can use an else if statement and there's really no limit to these if you would like a copy of this code i'll post this in the comments section down below and well yeah those are if statements in c plus all right everybody today we're going to discuss switches a switch is an alternative to using many else if statements it compares one value against many matching cases here's an example of what you don't want to do i have this program we have variable month month is of the integer data type the user will type in a number  through  to represent the month if month is equal to  it is january else if month\\n\\n\\n\\nelse statement let's add one more else if statement else if age is greater than or equal to  standard output you are too old to enter this site okay enter your age i am  years old i hit enter welcome to the site we check these conditions one by one starting from the top we stated that our age was  years old even though we were expecting to execute this body of code we instead executed this body of code within the if statement that's because our age was technically still greater than or equal to  so the order of your if and else if statements does matter it makes a difference if we need to execute this body of code if somebody's age is greater than or equal to  well then we should probably move that to the top then turn it into an if statement else if age is greater than or equal to  we will display this message let's try this one more time and to your age i am  years old i hit enter you are too old to enter the site so yeah that's an if statement you do something if a condition is\\n\\n\\n\\nby a question mark followed by a colon it's a replacement to using an if else statement you write a condition then add a question mark kind of like you're asking a question is something true if that condition is true we can do some code if it's false we do some other code here's an example we have a grade my grade is  if grade is greater than or equal to  i'll output you pass else will output you fail my grade is  therefore i pass another way of writing this is to use the ternary operator first we write a condition so let's get rid of this if statement after our condition we'll add a question mark now parentheses are optional then we write some expression standard output you pass we do this if our condition is true colon what will we do if that condition is false well let's use whatever's within our else statement and this would work the same if my grade is  you pass if it's  you fail let's come up with a few other examples let's check to see if a number is even or odd int number\\n\\n\\n\\nwithin our else statement and this would work the same if my grade is  you pass if it's  you fail let's come up with a few other examples let's check to see if a number is even or odd int number equals what about nine we write a condition we'll check if number modulus two remember modulus gives you the remainder of any division does number divide by two evenly so this returns a one or a zero if number modulus two is equal to  question mark then let's display odd if it's false we'll display standard output even okay odd let's change number to eight now it's even you don't necessarily need equals one or equal zero the number  does correspond to true and  corresponds to false so you could write it like this too  divides by  evenly that's even if it's  that is odd okay last example let's examine a boolean variable bull how about hungry is somebody hungry i'll set this to be true let's write our condition hungry equals true question mark now if you're examining to see if a boolean variable\\n\\n\\n\\nsuch as less than or equals to less than greater than if you need to compare if two values are equal you use two equal signs you don't want to say equals because then you're setting age equal to  equals is the assignment operator so let's check to see if age is greater than or equal to  then we'll print a message standard output welcome to the site okay let's try this enter your age let's say that i'm  well it doesn't do anything since this condition evaluated to be false we skip over this body of code if it were true then we execute it this time my age is  i hit enter welcome to the site if you would rather do something else if a condition is false you can use an else statement an else statement you will place at the end there is no condition else we will print standard output you are not old enough to enter okay let's try this again and to your age i'll say that i'm  you are not old enough to enter that's an if statement if some condition is true you do something if not you can do\\n      Question: Explain the use of if else\\n    \")"
      ]
     },
     "execution_count": 21,
     "metadata": {},
     "output_type": "execute_result"
    }
   ],
   "source": [
    "final_prompt = prompt.invoke({\"context\": context_text, \"question\": question})\n",
    "final_prompt"
   ]
  },
  {
   "cell_type": "code",
   "execution_count": 22,
   "id": "1e4e6fa9-9be8-4e71-914e-e19182206c5a",
   "metadata": {},
   "outputs": [
    {
     "name": "stdout",
     "output_type": "stream",
     "text": [
      "An if else statement is used to execute different blocks of code based on whether a specified condition is true or false. If the condition in the if statement is true, the code within that block executes. If the condition is false, the code within the else block executes instead. This structure allows for decision-making in programming, enabling the program to respond differently to varying inputs or situations.\n",
      "\n",
      "For example, in the provided context, if a user enters an age and the condition checks if the age is greater than or equal to a certain number, it would execute one block if the condition is true (e.g., \"welcome to the site\"), and another block if the condition is false (e.g., \"you are not old enough to enter\"). The order of the if and else if statements matters, as it determines which code block is executed based on the evaluated conditions.\n"
     ]
    }
   ],
   "source": [
    "answer = llm.invoke(final_prompt)\n",
    "print(answer.content)"
   ]
  },
  {
   "cell_type": "code",
   "execution_count": 23,
   "id": "a9dcacec-1c68-4a3f-ba13-69a4c589ea0f",
   "metadata": {},
   "outputs": [],
   "source": [
    "from langchain_core.runnables import RunnableParallel, RunnablePassthrough, RunnableLambda\n",
    "from langchain_core.output_parsers import StrOutputParser"
   ]
  },
  {
   "cell_type": "code",
   "execution_count": 24,
   "id": "3264478b-999d-48f8-a32c-2509a8385c5b",
   "metadata": {},
   "outputs": [],
   "source": [
    "def format_docs(retrieved_docs):\n",
    "  context_text = \"\\n\\n\".join(doc.page_content for doc in retrieved_docs)\n",
    "  return context_text"
   ]
  },
  {
   "cell_type": "code",
   "execution_count": 25,
   "id": "8384a3bc-8a65-4b94-8af3-f6e4d051ee7a",
   "metadata": {},
   "outputs": [],
   "source": [
    "parallel_chain = RunnableParallel({\n",
    "    'context': retriever | RunnableLambda(format_docs),\n",
    "    'question': RunnablePassthrough()\n",
    "})"
   ]
  },
  {
   "cell_type": "code",
   "execution_count": 27,
   "id": "0c657042-e37c-49c7-8a40-091663da2c55",
   "metadata": {},
   "outputs": [],
   "source": [
    "parser = StrOutputParser()"
   ]
  },
  {
   "cell_type": "code",
   "execution_count": 28,
   "id": "93537a46-d6f2-46c4-a876-1b2132542838",
   "metadata": {},
   "outputs": [],
   "source": [
    "main_chain = parallel_chain | prompt | llm | parser"
   ]
  },
  {
   "cell_type": "code",
   "execution_count": 29,
   "id": "ca981c14-ffd8-4fdc-bca3-b9f5efd3bcc1",
   "metadata": {},
   "outputs": [
    {
     "data": {
      "text/plain": [
       "'The video serves as an introduction to C++ programming. It covers the basics of variables, explaining their declaration and assignment, and highlights the fill function to populate an array with predetermined values (pizza, hamburgers, hot dogs). Additionally, it emphasizes the performance of C++ as a fast, middle-level programming language commonly used in graphics applications, video games, and embedded systems. The video also includes an example of creating an object (a car) with attributes (make, model, year, color) and methods (accelerate, brake), illustrating object-oriented programming concepts. Viewers are encouraged to like, comment, and subscribe.'"
      ]
     },
     "execution_count": 29,
     "metadata": {},
     "output_type": "execute_result"
    }
   ],
   "source": [
    "main_chain.invoke('Can you summarize the video')"
   ]
  },
  {
   "cell_type": "code",
   "execution_count": 30,
   "id": "8d23c7ff-3d02-42f0-acea-66b094d4cef1",
   "metadata": {},
   "outputs": [
    {
     "data": {
      "text/plain": [
       "'The transcript explains several types of loops in C++:\\n\\n1. **For Loop**: A for loop executes a block of code a specified number of times. It consists of three main components:\\n   - An initialization statement (e.g., `int index = 1` or simply `int i = 1`).\\n   - A stopping condition (e.g., `i <= 3`) that determines when the loop ends.\\n   - An increment or decrement statement (e.g., `i++`) to update the counter after each iteration. The structure is `for(initialization; condition; increment) { //code to execute }`.\\n\\n2. **Do While Loop**: A do while loop executes a block of code once before checking a condition to determine if it should repeat. The structure is `do { //code to execute } while (condition);`. It guarantees that the code inside the loop runs at least once.\\n\\n3. **Nested Loops**: These are loops inside of other loops. The inner loop runs completely every time the outer loop runs once. It is important to use different index variables for each loop (commonly `i` for the outer loop and `j` for the inner loop). This allows for counting and displaying values in a structured way, such as printing a rectangle of symbols by specifying rows and columns.\\n\\n4. **Break and Continue Keywords**:\\n   - The **break** keyword immediately terminates the loop, and can also be used in switch statements.\\n   - The **continue** keyword skips the current iteration of the loop and continues with the next iteration.\\n\\nEach type of loop serves different use cases depending on how many times you need to repeat the code and under what conditions.'"
      ]
     },
     "execution_count": 30,
     "metadata": {},
     "output_type": "execute_result"
    }
   ],
   "source": [
    "main_chain.invoke(\"explain the loops\")"
   ]
  },
  {
   "cell_type": "code",
   "execution_count": 32,
   "id": "52e30989-ebd5-4789-8b9e-d34afcd536c0",
   "metadata": {},
   "outputs": [
    {
     "data": {
      "text/plain": [
       "\"I don't know.\""
      ]
     },
     "execution_count": 32,
     "metadata": {},
     "output_type": "execute_result"
    }
   ],
   "source": [
    "main_chain.invoke(\"what is pakistan\")"
   ]
  },
  {
   "cell_type": "code",
   "execution_count": null,
   "id": "eb800530-9dfa-453a-845d-20692cd3dfae",
   "metadata": {},
   "outputs": [],
   "source": []
  }
 ],
 "metadata": {
  "kernelspec": {
   "display_name": "Python 3 (ipykernel)",
   "language": "python",
   "name": "python3"
  },
  "language_info": {
   "codemirror_mode": {
    "name": "ipython",
    "version": 3
   },
   "file_extension": ".py",
   "mimetype": "text/x-python",
   "name": "python",
   "nbconvert_exporter": "python",
   "pygments_lexer": "ipython3",
   "version": "3.13.7"
  }
 },
 "nbformat": 4,
 "nbformat_minor": 5
}
